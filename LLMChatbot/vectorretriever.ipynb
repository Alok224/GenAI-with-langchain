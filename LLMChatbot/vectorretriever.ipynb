{
 "cells": [
  {
   "cell_type": "code",
   "execution_count": 2,
   "id": "ee05610f",
   "metadata": {},
   "outputs": [],
   "source": [
    "import os\n",
    "from dotenv import load_dotenv\n",
    "load_dotenv()\n",
    "groq_api_key = os.getenv(\"GROQ_API_KEY\")\n",
    "ollama_api_key = os.getenv(\"OLLAMA_API_KEY\")\n",
    "from langchain_groq import ChatGroq\n",
    "llm = ChatGroq(model_name = \"gemma2-9b-It\",groq_api_key = groq_api_key)"
   ]
  },
  {
   "cell_type": "code",
   "execution_count": 3,
   "id": "a68f75de",
   "metadata": {},
   "outputs": [],
   "source": [
    "from langchain_core.documents import Document\n",
    "document = [\n",
    "    Document(\n",
    "        page_content=\"The quick brown fox jumps over the lazy dog.\",\n",
    "        metadata={\"source\": \"example.txt\", \"author\": \"John Doe\"}\n",
    "    ),\n",
    "    Document(\n",
    "        page_content=\"The rain in Spain stays mainly in the plain.\",\n",
    "        metadata={\"source\": \"example2.txt\", \"author\": \"Jane Smith\"}\n",
    "    ),\n",
    "    Document(\n",
    "        page_content=\"A journey of a thousand miles begins with a single step.\",\n",
    "        metadata={\"source\": \"example3.txt\", \"author\": \"Lao Tzu\"}\n",
    "    ),\n",
    "    Document(\n",
    "        page_content=\"To be or not to be, that is the question.\",\n",
    "        metadata={\"source\": \"example4.txt\", \"author\": \"William Shakespeare\"}\n",
    "    ),\n",
    "    Document(\n",
    "        page_content=\"All that glitters is not gold.\",\n",
    "        metadata={\"source\": \"example5.txt\", \"author\": \"William Shakespeare\"}\n",
    "    ),\n",
    "    Document(\n",
    "        page_content=\"The only thing we have to fear is fear itself.\",\n",
    "        metadata={\"source\": \"example6.txt\", \"author\": \"Franklin D. Roosevelt\"}\n",
    "    ),\n",
    "\n",
    "]\n"
   ]
  },
  {
   "cell_type": "code",
   "execution_count": 4,
   "id": "e153fbc6",
   "metadata": {},
   "outputs": [],
   "source": [
    "from langchain_chroma import Chroma\n",
    "from langchain_ollama.embeddings import OllamaEmbeddings\n",
    "embeddings = OllamaEmbeddings(model=\"mxbai-embed-large\")\n",
    "vectorstore = Chroma.from_documents(document,\n",
    "    embedding= embeddings,persist_directory = \"chroma_db\")"
   ]
  },
  {
   "cell_type": "code",
   "execution_count": 5,
   "id": "59c85ef1",
   "metadata": {},
   "outputs": [
    {
     "data": {
      "text/plain": [
       "[Document(id='47ced894-affb-4ca5-a8dc-0c2718c72ae8', metadata={'author': 'William Shakespeare', 'source': 'example5.txt'}, page_content='All that glitters is not gold.'),\n",
       " Document(id='56dc260b-beee-4d15-9dad-561aceb63998', metadata={'author': 'William Shakespeare', 'source': 'example5.txt'}, page_content='All that glitters is not gold.'),\n",
       " Document(id='baa4c8e1-ab18-4e36-8a61-d03aaa5ea111', metadata={'author': 'William Shakespeare', 'source': 'example5.txt'}, page_content='All that glitters is not gold.'),\n",
       " Document(id='026ebb94-b572-4356-a94c-0f8f84204471', metadata={'author': 'William Shakespeare', 'source': 'example4.txt'}, page_content='To be or not to be, that is the question.')]"
      ]
     },
     "execution_count": 5,
     "metadata": {},
     "output_type": "execute_result"
    }
   ],
   "source": [
    "vectorstore.similarity_search(\"glitters\")"
   ]
  },
  {
   "cell_type": "code",
   "execution_count": 6,
   "id": "e4f5c10f",
   "metadata": {},
   "outputs": [
    {
     "data": {
      "text/plain": [
       "[Document(id='47ced894-affb-4ca5-a8dc-0c2718c72ae8', metadata={'author': 'William Shakespeare', 'source': 'example5.txt'}, page_content='All that glitters is not gold.'),\n",
       " Document(id='56dc260b-beee-4d15-9dad-561aceb63998', metadata={'author': 'William Shakespeare', 'source': 'example5.txt'}, page_content='All that glitters is not gold.'),\n",
       " Document(id='baa4c8e1-ab18-4e36-8a61-d03aaa5ea111', metadata={'author': 'William Shakespeare', 'source': 'example5.txt'}, page_content='All that glitters is not gold.'),\n",
       " Document(id='026ebb94-b572-4356-a94c-0f8f84204471', metadata={'author': 'William Shakespeare', 'source': 'example4.txt'}, page_content='To be or not to be, that is the question.')]"
      ]
     },
     "execution_count": 6,
     "metadata": {},
     "output_type": "execute_result"
    }
   ],
   "source": [
    "# async query\n",
    "await vectorstore.asimilarity_search(\"glitters\")"
   ]
  },
  {
   "cell_type": "code",
   "execution_count": 7,
   "id": "65cd7478",
   "metadata": {},
   "outputs": [
    {
     "data": {
      "text/plain": [
       "[(Document(id='47ced894-affb-4ca5-a8dc-0c2718c72ae8', metadata={'author': 'William Shakespeare', 'source': 'example5.txt'}, page_content='All that glitters is not gold.'),\n",
       "  0.5230611012463176),\n",
       " (Document(id='56dc260b-beee-4d15-9dad-561aceb63998', metadata={'author': 'William Shakespeare', 'source': 'example5.txt'}, page_content='All that glitters is not gold.'),\n",
       "  0.5230611012463176),\n",
       " (Document(id='baa4c8e1-ab18-4e36-8a61-d03aaa5ea111', metadata={'author': 'William Shakespeare', 'source': 'example5.txt'}, page_content='All that glitters is not gold.'),\n",
       "  0.5230611012463176),\n",
       " (Document(id='026ebb94-b572-4356-a94c-0f8f84204471', metadata={'author': 'William Shakespeare', 'source': 'example4.txt'}, page_content='To be or not to be, that is the question.'),\n",
       "  1.1452874034660148)]"
      ]
     },
     "execution_count": 7,
     "metadata": {},
     "output_type": "execute_result"
    }
   ],
   "source": [
    "vectorstore.similarity_search_with_score(\"glitters\")"
   ]
  },
  {
   "cell_type": "code",
   "execution_count": 8,
   "id": "8cde8520",
   "metadata": {},
   "outputs": [
    {
     "data": {
      "text/plain": [
       "[[Document(id='43654bc5-81c5-4522-9f6f-0925b80e18f1', metadata={'author': 'William Shakespeare', 'source': 'example4.txt'}, page_content='To be or not to be, that is the question.')],\n",
       " [Document(id='173c1d13-dcd5-4a20-a26c-785205c0ad39', metadata={'author': 'John Doe', 'source': 'example.txt'}, page_content='The quick brown fox jumps over the lazy dog.')]]"
      ]
     },
     "execution_count": 8,
     "metadata": {},
     "output_type": "execute_result"
    }
   ],
   "source": [
    "retriever = vectorstore.as_retriever(search_type=\"similarity\",\n",
    "        search_kwargs={'k': 1})\n",
    "\n",
    "retriever.batch({\"cat\",\"dogs\"})"
   ]
  },
  {
   "cell_type": "code",
   "execution_count": 11,
   "id": "5c1da896",
   "metadata": {},
   "outputs": [
    {
     "name": "stdout",
     "output_type": "stream",
     "text": [
      "content='The provided text only states that a lazy dog was jumped over by a quick brown fox.  \\n' response_metadata={'token_usage': {'completion_tokens': 22, 'prompt_tokens': 97, 'total_tokens': 119, 'completion_time': 0.04, 'prompt_time': 0.002668807, 'queue_time': 0.250150987, 'total_time': 0.042668807}, 'model_name': 'gemma2-9b-It', 'system_fingerprint': 'fp_10c08bf97d', 'finish_reason': 'stop', 'logprobs': None} id='run-1f0f93c6-76b1-4717-adcf-b3409cbf4c6d-0' usage_metadata={'input_tokens': 97, 'output_tokens': 22, 'total_tokens': 119}\n"
     ]
    }
   ],
   "source": [
    "from langchain_core.prompts import ChatPromptTemplate\n",
    "from langchain_core.runnables import RunnablePassthrough\n",
    "\n",
    "message = \"\"\"\n",
    "\n",
    "Answer this question using the provided context only.\n",
    "{question}\n",
    "\n",
    "Context:\n",
    "{context}\n",
    "\n",
    "\"\"\"\n",
    "\n",
    "prompt = ChatPromptTemplate.from_messages([(\"human\",message)])\n",
    "\n",
    "rag_chain = {\"context\" : retriever, \"question\" : RunnablePassthrough()}|prompt|llm\n",
    "\n",
    "response = rag_chain.invoke(\"Tell me about dogs\")\n",
    "print(response)"
   ]
  },
  {
   "cell_type": "code",
   "execution_count": null,
   "id": "5cc9980a",
   "metadata": {},
   "outputs": [],
   "source": []
  }
 ],
 "metadata": {
  "kernelspec": {
   "display_name": "langenv",
   "language": "python",
   "name": "python3"
  },
  "language_info": {
   "codemirror_mode": {
    "name": "ipython",
    "version": 3
   },
   "file_extension": ".py",
   "mimetype": "text/x-python",
   "name": "python",
   "nbconvert_exporter": "python",
   "pygments_lexer": "ipython3",
   "version": "3.11.0"
  }
 },
 "nbformat": 4,
 "nbformat_minor": 5
}
