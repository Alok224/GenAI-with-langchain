{
 "cells": [
  {
   "cell_type": "markdown",
   "id": "6ea6d527",
   "metadata": {},
   "source": [
    "#### Simple LLM Application using Groq API key"
   ]
  },
  {
   "cell_type": "code",
   "execution_count": 2,
   "id": "9f61d6c7",
   "metadata": {},
   "outputs": [
    {
     "name": "stdout",
     "output_type": "stream",
     "text": [
      REDACTED" iIalKBRZKOv6ojJvcQn6WGdyb3FYsxsiShPiZ6wLGFJGFzJcZ3hS\n"
     ]
    }
   ],
   "source": [
    "import os\n",
    "from dotenv import load_dotenv\n",
    "load_dotenv()\n",
    "\n",
    "import openai\n",
    "openai.api_key = os.getenv(\"OPENAI_API_KEY\")\n",
    "\n",
    "groq_api_key = os.getenv(\"GROQ_API_KEY\")\n",
    "print(groq_api_key)"
   ]
  },
  {
   "cell_type": "code",
   "execution_count": 3,
   "id": "1c5d35ce",
   "metadata": {},
   "outputs": [
    {
     "name": "stdout",
     "output_type": "stream",
     "text": [
      "client=<groq.resources.chat.completions.Completions object at 0x0000023F5AD65E50> async_client=<groq.resources.chat.completions.AsyncCompletions object at 0x0000023F5AEB9B50> model_name='Gemma2-9b-It' model_kwargs={} groq_api_key=SecretStr('**********')\n"
     ]
    }
   ],
   "source": [
    "from langchain_groq import ChatGroq\n",
    "llm = ChatGroq(model_name = \"Gemma2-9b-It\",groq_api_key = groq_api_key)\n",
    "print(llm)"
   ]
  },
  {
   "cell_type": "code",
   "execution_count": 10,
   "id": "fd86f5ef",
   "metadata": {},
   "outputs": [
    {
     "name": "stdout",
     "output_type": "stream",
     "text": [
      "नमस्ते (Namaste) \n",
      "\n"
     ]
    }
   ],
   "source": [
    "from langchain_core.prompts import ChatPromptTemplate\n",
    "from langchain_core.output_parsers import StrOutputParser\n",
    "prompts =  ChatPromptTemplate.from_messages(\n",
    "    [\n",
    "        (\"system\", \"Translate the following english text to Hindi.\"),\n",
    "        (\"human\", \"{text}\")\n",
    "    ]\n",
    ")\n",
    "output_parser = StrOutputParser()\n",
    "chain = prompts | llm | output_parser\n",
    "\n",
    "response = chain.invoke({\"text\" : \"hello\"})\n",
    "print(response)\n"
   ]
  },
  {
   "cell_type": "code",
   "execution_count": null,
   "id": "722fd7ef",
   "metadata": {},
   "outputs": [],
   "source": []
  }
 ],
 "metadata": {
  "kernelspec": {
   "display_name": "langenv",
   "language": "python",
   "name": "python3"
  },
  "language_info": {
   "codemirror_mode": {
    "name": "ipython",
    "version": 3
   },
   "file_extension": ".py",
   "mimetype": "text/x-python",
   "name": "python",
   "nbconvert_exporter": "python",
   "pygments_lexer": "ipython3",
   "version": "3.11.0"
  }
 },
 "nbformat": 4,
 "nbformat_minor": 5
}
